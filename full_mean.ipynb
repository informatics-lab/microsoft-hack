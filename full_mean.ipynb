{
 "cells": [
  {
   "cell_type": "markdown",
   "metadata": {},
   "source": [
    "- Given a lat lon\n",
    "- Assume maximum temperature\n",
    "- convert lat lon to correct projection\n",
    "- join all times together\n",
    "- from megacube extract that geospatial point\n",
    "    - investgate interopolation vs. find nearest\n",
    "- collapse time by mean\n",
    "- return float"
   ]
  },
  {
   "cell_type": "code",
   "execution_count": 1,
   "metadata": {
    "collapsed": true
   },
   "outputs": [],
   "source": [
    "lat = 52\n",
    "lon = -2"
   ]
  },
  {
   "cell_type": "code",
   "execution_count": 2,
   "metadata": {
    "collapsed": false
   },
   "outputs": [
    {
     "data": {
      "text/plain": [
       "<iris 'Cube' of air_temperature / (degC) (time: 366; projection_y_coordinate: 290; projection_x_coordinate: 180)>"
      ]
     },
     "execution_count": 2,
     "metadata": {},
     "output_type": "execute_result"
    }
   ],
   "source": [
    "import datetime\n",
    "import iris\n",
    "iris.FUTURE.netcdf_promote = True\n",
    "\n",
    "cubes = iris.load('../microsoft/*.nc')\n",
    "full_cube = iris.cube.CubeList(cubes).concatenate_cube()\n",
    "full_cube"
   ]
  },
  {
   "cell_type": "code",
   "execution_count": 3,
   "metadata": {
    "collapsed": false
   },
   "outputs": [],
   "source": [
    "import cartopy\n",
    "\n",
    "def transform_coords(cube, lon, lat):\n",
    "    expected_proj = cube.coords('projection_y_coordinate')[0].coord_system.as_cartopy_crs()\n",
    "    given_proj = cartopy.crs.PlateCarree()\n",
    "    return expected_proj.transform_point(lon, lat, given_proj)"
   ]
  },
  {
   "cell_type": "code",
   "execution_count": 4,
   "metadata": {
    "collapsed": false
   },
   "outputs": [],
   "source": [
    "def get_avg(full_cube, lat, lon, year, month, day, past_years=56):\n",
    "    x, y = transform_coords(full_cube, lon, lat)\n",
    "    \n",
    "    first_year = next(full_cube.slices_over('time'))\n",
    "\n",
    "    samples = [('projection_y_coordinate', y), ('projection_x_coordinate', x)]\n",
    "    first_point = first_year.interpolate(samples, iris.analysis.Nearest())\n",
    "    \n",
    "    exact_x = first_point.coord('projection_x_coordinate')[0].points[0]\n",
    "    exact_y = first_point.coord('projection_y_coordinate')[0].points[0]\n",
    "    \n",
    "    x_const = iris.Constraint(projection_x_coordinate=exact_x)\n",
    "    y_const = iris.Constraint(projection_y_coordinate=exact_y)\n",
    "\n",
    "    all_points = full_cube.extract(x_const).extract(y_const)\n",
    "    \n",
    "    years = [year - i for i in range(past_years)]\n",
    "    time_units = all_points.coord('time').units\n",
    "    vals = [time_units.date2num(datetime.datetime(y, month, day)) for y in years]\n",
    "    time_constraint = iris.Constraint(time=vals)\n",
    "    \n",
    "    day_cube = all_points.extract(time_constraint)\n",
    "    \n",
    "    time_mean = day_cube.collapsed('time', iris.analysis.MEAN)\n",
    "    return time_mean.data"
   ]
  },
  {
   "cell_type": "code",
   "execution_count": 5,
   "metadata": {
    "collapsed": false
   },
   "outputs": [
    {
     "data": {
      "text/plain": [
       "array(1.4383695125579834)"
      ]
     },
     "execution_count": 5,
     "metadata": {},
     "output_type": "execute_result"
    }
   ],
   "source": [
    "get_avg(full_cube, lat, lon, 1960, 1, 15, past_years=1)"
   ]
  },
  {
   "cell_type": "code",
   "execution_count": null,
   "metadata": {
    "collapsed": true
   },
   "outputs": [],
   "source": []
  }
 ],
 "metadata": {
  "kernelspec": {
   "display_name": "Python 3",
   "language": "python",
   "name": "python3"
  },
  "language_info": {
   "codemirror_mode": {
    "name": "ipython",
    "version": 3
   },
   "file_extension": ".py",
   "mimetype": "text/x-python",
   "name": "python",
   "nbconvert_exporter": "python",
   "pygments_lexer": "ipython3",
   "version": "3.5.2"
  }
 },
 "nbformat": 4,
 "nbformat_minor": 2
}
