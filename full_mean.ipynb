{
 "cells": [
  {
   "cell_type": "markdown",
   "metadata": {},
   "source": [
    "- Given a lat lon\n",
    "- Assume maximum temperature\n",
    "- convert lat lon to correct projection\n",
    "- join all times together\n",
    "- from megacube extract that geospatial point\n",
    "    - investgate interopolation vs. find nearest\n",
    "- collapse time by mean\n",
    "- return float"
   ]
  },
  {
   "cell_type": "code",
   "execution_count": 4,
   "metadata": {
    "collapsed": true
   },
   "outputs": [],
   "source": [
    "lat = 52\n",
    "lon = -2"
   ]
  },
  {
   "cell_type": "code",
   "execution_count": 5,
   "metadata": {
    "collapsed": false
   },
   "outputs": [
    {
     "data": {
      "text/plain": [
       "<iris 'Cube' of air_temperature / (degC) (time: 366; projection_y_coordinate: 290; projection_x_coordinate: 180)>"
      ]
     },
     "execution_count": 5,
     "metadata": {},
     "output_type": "execute_result"
    }
   ],
   "source": [
    "import iris\n",
    "iris.FUTURE.netcdf_promote = True\n",
    "\n",
    "cubes = iris.load('../microsoft/*.nc')\n",
    "full_cube = iris.cube.CubeList(cubes).concatenate_cube()\n",
    "full_cube"
   ]
  },
  {
   "cell_type": "code",
   "execution_count": 6,
   "metadata": {
    "collapsed": false
   },
   "outputs": [],
   "source": [
    "import cartopy\n",
    "\n",
    "def transform_coords(cube, lon, lat):\n",
    "    expected_proj = cube.coords('projection_y_coordinate')[0].coord_system.as_cartopy_crs()\n",
    "    given_proj = cartopy.crs.PlateCarree()\n",
    "    return expected_proj.transform_point(lon, lat, given_proj)"
   ]
  },
  {
   "cell_type": "code",
   "execution_count": 7,
   "metadata": {
    "collapsed": false
   },
   "outputs": [
    {
     "data": {
      "text/plain": [
       "(400000.0, 233553.7313316085)"
      ]
     },
     "execution_count": 7,
     "metadata": {},
     "output_type": "execute_result"
    }
   ],
   "source": [
    "x, y = transform_coords(full_cube, lon, lat)\n",
    "x, y"
   ]
  },
  {
   "cell_type": "code",
   "execution_count": 8,
   "metadata": {
    "collapsed": false
   },
   "outputs": [
    {
     "data": {
      "text/plain": [
       "<iris 'Cube' of air_temperature / (degC) (projection_y_coordinate: 290; projection_x_coordinate: 180)>"
      ]
     },
     "execution_count": 8,
     "metadata": {},
     "output_type": "execute_result"
    }
   ],
   "source": [
    "first_year = next(full_cube.slices_over('time'))\n",
    "first_year"
   ]
  },
  {
   "cell_type": "code",
   "execution_count": 9,
   "metadata": {
    "collapsed": false
   },
   "outputs": [
    {
     "name": "stdout",
     "output_type": "stream",
     "text": [
      "air_temperature / (degC)            (scalar cube)\n",
      "     Scalar coordinates:\n",
      "          latitude: 51.9905194856 degrees\n",
      "          longitude: -2.03641212568 degrees\n",
      "          projection_x_coordinate: 400000.0 m\n",
      "          projection_y_coordinate: 233553.731332 m\n",
      "          time: 1960-01-01 12:00:00, bound=(1960-01-01 00:00:00, 1960-01-02 00:00:00)\n",
      "     Attributes:\n",
      "          Conventions: CF-1.5\n",
      "          comment: This dataset has been produced by Met Office in support of UKCP09\n",
      "          institution: Met Office\n",
      "          references: doi: 10.1002/joc.1161\n",
      "          short_name: daily_maxtemp\n",
      "          source: UKCP09\n",
      "          title: UKCP09: Met Office Gridded land surface climate observations\n",
      "     Cell methods:\n",
      "          maximum: time (observing period is 0900 on day D to 0900 on day D+1)\n"
     ]
    }
   ],
   "source": [
    "samples = [('projection_y_coordinate', y), ('projection_x_coordinate', x)]\n",
    "first_point = first_year.interpolate(samples, iris.analysis.Nearest())\n",
    "print(first_point)"
   ]
  },
  {
   "cell_type": "code",
   "execution_count": 10,
   "metadata": {
    "collapsed": false
   },
   "outputs": [
    {
     "data": {
      "text/plain": [
       "(400000.0, 233553.73133160849)"
      ]
     },
     "execution_count": 10,
     "metadata": {},
     "output_type": "execute_result"
    }
   ],
   "source": [
    "exact_x = first_point.coord('projection_x_coordinate')[0].points[0]\n",
    "exact_y = first_point.coord('projection_y_coordinate')[0].points[0]\n",
    "exact_x, exact_y"
   ]
  },
  {
   "cell_type": "code",
   "execution_count": 11,
   "metadata": {
    "collapsed": false
   },
   "outputs": [
    {
     "data": {
      "text/plain": [
       "<iris 'Cube' of air_temperature / (degC) (time: 366)>"
      ]
     },
     "execution_count": 11,
     "metadata": {},
     "output_type": "execute_result"
    }
   ],
   "source": [
    "x_const = iris.Constraint(projection_x_coordinate=exact_x)\n",
    "y_const = iris.Constraint(projection_y_coordinate=exact_y)\n",
    "\n",
    "all_points = full_cube.extract(x_const).extract(y_const)\n",
    "all_points"
   ]
  },
  {
   "cell_type": "code",
   "execution_count": 39,
   "metadata": {
    "collapsed": true
   },
   "outputs": [],
   "source": [
    "years = [1960]"
   ]
  },
  {
   "cell_type": "code",
   "execution_count": 40,
   "metadata": {
    "collapsed": false
   },
   "outputs": [
    {
     "data": {
      "text/plain": [
       "Constraint(coord_values={'time': [1402848.0]})"
      ]
     },
     "execution_count": 40,
     "metadata": {},
     "output_type": "execute_result"
    }
   ],
   "source": [
    "import datetime\n",
    "\n",
    "time_units = all_points.coord('time').units\n",
    "vals = [time_units.date2num(datetime.datetime(y, 1, 15)) for y in years]\n",
    "time_constraint = iris.Constraint(time=vals)\n",
    "time_constraint"
   ]
  },
  {
   "cell_type": "code",
   "execution_count": 41,
   "metadata": {
    "collapsed": true
   },
   "outputs": [],
   "source": [
    "day_cube = all_points.extract(time_constraint)"
   ]
  },
  {
   "cell_type": "code",
   "execution_count": 42,
   "metadata": {
    "collapsed": true
   },
   "outputs": [],
   "source": [
    "time_mean = day_cube.collapsed('time', iris.analysis.MEAN)"
   ]
  },
  {
   "cell_type": "code",
   "execution_count": 43,
   "metadata": {
    "collapsed": false
   },
   "outputs": [
    {
     "name": "stdout",
     "output_type": "stream",
     "text": [
      "air_temperature / (degC)            (scalar cube)\n",
      "     Scalar coordinates:\n",
      "          latitude: 51.9905194856 degrees\n",
      "          longitude: -2.03641212568 degrees\n",
      "          projection_x_coordinate: 397500.0 m, bound=(395000.0, 400000.0) m\n",
      "          projection_y_coordinate: 232500.0 m, bound=(230000.0, 235000.0) m\n",
      "          time: 1960-01-15 00:00:00, bound=(1960-01-14 00:00:00, 1960-01-16 00:00:00)\n",
      "     Attributes:\n",
      "          Conventions: CF-1.5\n",
      "          comment: This dataset has been produced by Met Office in support of UKCP09\n",
      "          institution: Met Office\n",
      "          references: doi: 10.1002/joc.1161\n",
      "          short_name: daily_maxtemp\n",
      "          source: UKCP09\n",
      "          title: UKCP09: Met Office Gridded land surface climate observations\n",
      "     Cell methods:\n",
      "          maximum: time (observing period is 0900 on day D to 0900 on day D+1)\n",
      "          mean: time\n"
     ]
    }
   ],
   "source": [
    "print(time_mean)"
   ]
  },
  {
   "cell_type": "code",
   "execution_count": 44,
   "metadata": {
    "collapsed": false
   },
   "outputs": [
    {
     "name": "stdout",
     "output_type": "stream",
     "text": [
      "1.4383695125579834\n"
     ]
    }
   ],
   "source": [
    "print(time_mean.data)"
   ]
  },
  {
   "cell_type": "code",
   "execution_count": null,
   "metadata": {
    "collapsed": true
   },
   "outputs": [],
   "source": []
  }
 ],
 "metadata": {
  "kernelspec": {
   "display_name": "Python 3",
   "language": "python",
   "name": "python3"
  },
  "language_info": {
   "codemirror_mode": {
    "name": "ipython",
    "version": 3
   },
   "file_extension": ".py",
   "mimetype": "text/x-python",
   "name": "python",
   "nbconvert_exporter": "python",
   "pygments_lexer": "ipython3",
   "version": "3.5.2"
  }
 },
 "nbformat": 4,
 "nbformat_minor": 2
}
