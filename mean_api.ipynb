{
 "cells": [
  {
   "cell_type": "markdown",
   "metadata": {
    "deletable": true,
    "editable": true
   },
   "source": [
    "- Given a lat lon\n",
    "- Assume maximum temperature\n",
    "- convert lat lon to correct projection\n",
    "- join all times together\n",
    "- from megacube extract that geospatial point\n",
    "    - investgate interopolation vs. find nearest\n",
    "- collapse time by mean\n",
    "- return float"
   ]
  },
  {
   "cell_type": "code",
   "execution_count": 199,
   "metadata": {
    "collapsed": true
   },
   "outputs": [],
   "source": [
    "REQUEST = '''{\n",
    "    \"args\": {\n",
    "        \"date\": [\"2013-02-27\"],\n",
    "        \"start_date\": [\"2012-01-01\"],\n",
    "        \"end_date\": [\"2012-01-03\"],\n",
    "        \"lat\": [\"51\"],\n",
    "        \"lon\": [\"-1\"]\n",
    "    },\n",
    "    \"path\": {\n",
    "        \"parameter\": \"temperature\",\n",
    "        \"operation\": \"min\"\n",
    "    }\n",
    "}'''\n"
   ]
  },
  {
   "cell_type": "code",
   "execution_count": 200,
   "metadata": {
    "collapsed": false,
    "deletable": true,
    "editable": true
   },
   "outputs": [
    {
     "name": "stdout",
     "output_type": "stream",
     "text": [
      "hello world\n"
     ]
    }
   ],
   "source": [
    "# GET /helloworld\n",
    "\n",
    "print('hello world')\n"
   ]
  },
  {
   "cell_type": "code",
   "execution_count": 202,
   "metadata": {
    "collapsed": false,
    "deletable": true,
    "editable": true
   },
   "outputs": [],
   "source": [
    "import datetime\n",
    "import iris\n",
    "\n",
    "iris.FUTURE.netcdf_promote = True\n",
    "\n",
    "def load_data(data_path, dates):\n",
    "    # pattern is glob style\n",
    "#     cubes = iris.load('/opt/data/{}'.format(pattern))\n",
    "    filenames = get_filenames(data_path, dates)\n",
    "    cubes = iris.load(filenames)\n",
    "    return iris.cube.CubeList(cubes).concatenate_cube()\n"
   ]
  },
  {
   "cell_type": "code",
   "execution_count": 203,
   "metadata": {
    "collapsed": false,
    "deletable": true,
    "editable": true
   },
   "outputs": [],
   "source": [
    "import cartopy\n",
    "\n",
    "def transform_coords(cube, lon, lat):\n",
    "    expected_proj = cube.coords('projection_y_coordinate')[0].coord_system.as_cartopy_crs()\n",
    "    given_proj = cartopy.crs.PlateCarree()\n",
    "    return expected_proj.transform_point(lon, lat, given_proj)"
   ]
  },
  {
   "cell_type": "code",
   "execution_count": 204,
   "metadata": {
    "collapsed": false,
    "deletable": true,
    "editable": true
   },
   "outputs": [],
   "source": [
    "\n",
    "def get_coords(cube, lat, lon):\n",
    "    x, y = transform_coords(cube, lon, lat)\n",
    "    first_year = next(cube.slices_over('time'))\n",
    "    samples = [('projection_y_coordinate', y), ('projection_x_coordinate', x)]\n",
    "    first_point = first_year.interpolate(samples, iris.analysis.Nearest())\n",
    "    exact_x = first_point.coord('projection_x_coordinate')[0].points[0]\n",
    "    exact_y = first_point.coord('projection_y_coordinate')[0].points[0]\n",
    "    \n",
    "    return(exact_x, exact_y)\n",
    "    \n"
   ]
  },
  {
   "cell_type": "code",
   "execution_count": 205,
   "metadata": {
    "collapsed": false,
    "deletable": true,
    "editable": true
   },
   "outputs": [],
   "source": [
    "\n",
    "def collapse_latlon(cube, x, y):\n",
    "    x_const = iris.Constraint(projection_x_coordinate=x)\n",
    "    y_const = iris.Constraint(projection_y_coordinate=y)\n",
    "    return cube.extract(x_const).extract(y_const)"
   ]
  },
  {
   "cell_type": "code",
   "execution_count": 206,
   "metadata": {
    "collapsed": false,
    "deletable": true,
    "editable": true
   },
   "outputs": [],
   "source": [
    "from datetime import timedelta\n",
    "\n",
    "def expand_years(start, end, past_years=40):\n",
    "    years = [\n",
    "        datetime.datetime(\n",
    "            d.year - i,\n",
    "            d.month,\n",
    "            d.day)\n",
    "        for i in range(past_years)\n",
    "        for d in select_all_days(start, end)]\n",
    "    return years\n",
    "\n",
    "def select_all_days(start, end):\n",
    "    delta = end - start\n",
    "    days = [end - timedelta(days=i) for i in range(delta.days)]\n",
    "    return days\n",
    "\n",
    "def extract_dates(cube, dates):\n",
    "    time_units = cube.coord('time').units\n",
    "    vals = [time_units.date2num(date + timedelta(hours=12)) for date in dates] #12pm, not midnight\n",
    "    time_constraint = iris.Constraint(time=vals)\n",
    "    return cube.extract(time_constraint)"
   ]
  },
  {
   "cell_type": "code",
   "execution_count": 207,
   "metadata": {
    "collapsed": false,
    "deletable": true,
    "editable": true
   },
   "outputs": [],
   "source": [
    "def mean(cube):\n",
    "    return cube.collapsed('time', iris.analysis.MEAN)\n",
    "\n",
    "def cmax(cube):\n",
    "    return cube.collapsed('time', iris.analysis.MAX)\n",
    "\n",
    "def cmin(cube):\n",
    "    return cube.collapsed('time', iris.analysis.MIN)"
   ]
  },
  {
   "cell_type": "code",
   "execution_count": 208,
   "metadata": {
    "collapsed": false,
    "deletable": true,
    "editable": true
   },
   "outputs": [],
   "source": [
    "patterns = {\n",
    "    'temperature': 'maximum-temperature',\n",
    "    'rainfall': 'rainfall'\n",
    "}\n",
    "\n",
    "operations = {\n",
    "    'mean': mean,\n",
    "    'max': cmax,\n",
    "    'min': cmin\n",
    "}"
   ]
  },
  {
   "cell_type": "code",
   "execution_count": null,
   "metadata": {
    "collapsed": true
   },
   "outputs": [],
   "source": []
  },
  {
   "cell_type": "code",
   "execution_count": 100,
   "metadata": {
    "collapsed": true
   },
   "outputs": [],
   "source": [
    "import glob\n",
    "def get_filenames(data_path, dates):\n",
    "    years = set([date.year for date in dates])\n",
    "    filenames = [f for y in years for f in glob.glob('/opt/data/{}/*_{}*.nc'.format(data_path, y))]\n",
    "    return filenames"
   ]
  },
  {
   "cell_type": "code",
   "execution_count": 81,
   "metadata": {
    "collapsed": true,
    "deletable": true,
    "editable": true
   },
   "outputs": [],
   "source": [
    "from collections import defaultdict\n",
    "CACHED_POINTS = defaultdict(lambda: None)"
   ]
  },
  {
   "cell_type": "code",
   "execution_count": 210,
   "metadata": {
    "collapsed": true,
    "deletable": true,
    "editable": true
   },
   "outputs": [],
   "source": [
    "import io\n",
    "import boto3\n",
    "import uuid\n",
    "import matplotlib.pyplot as plt\n",
    "\n",
    "\n",
    "def upload_image(byte_data):\n",
    "    bucket_name = 'microsoft-hack'\n",
    "    s3 = boto3.resource('s3')\n",
    "    bucket = s3.Bucket(bucket_name)\n",
    "    uid = str(uuid.uuid4())\n",
    "    bucket.put_object(\n",
    "        Body=byte_data,\n",
    "        ContentType='image/png',\n",
    "        Key='{}.png'.format(uid),\n",
    "        ACL='public-read')\n",
    "    \n",
    "    return 'https://s3-eu-west-1.amazonaws.com/{}/{}.png'.format(bucket_name, uid)\n",
    "\n",
    "def graph(cube, times):\n",
    "    plt.plot(times, cube.data, ':o')\n",
    "    plt.xticks(rotation=45)\n",
    "    plt.xlabel('Year');\n",
    "    plt.ylabel('Temp/C');\n",
    "    img_data = io.BytesIO()\n",
    "    plt.savefig(img_data, format='png')\n",
    "    img_data.seek(0)\n",
    "    s3_url = upload_image(img_data)\n",
    "    return s3_url\n",
    "\n",
    "def get_response(cube, dates, x, y, operation):\n",
    "    time_cube = collapse_latlon(cube, x, y)\n",
    "    collapsed_time_cube = extract_dates(time_cube, dates)\n",
    "    \n",
    "    s3_url = graph(collapsed_time_cube, dates)\n",
    "\n",
    "    collapsed_cube = operation(collapsed_time_cube)\n",
    "    \n",
    "    val = float(collapsed_cube.data)\n",
    "    \n",
    "    response = {\n",
    "        'value': val,\n",
    "        'start_date': dates[-1].strftime('%Y-%m-%d'),\n",
    "        'end_date': dates[0].strftime('%Y-%m-%d'),\n",
    "        'graph': s3_url\n",
    "    }\n",
    "    \n",
    "    return response"
   ]
  },
  {
   "cell_type": "code",
   "execution_count": 211,
   "metadata": {
    "collapsed": true
   },
   "outputs": [],
   "source": [
    "def parse_query(req):\n",
    "    query = req['args']\n",
    "    lat = float(query['lat'][0])\n",
    "    lon = float(query['lon'][0])\n",
    "    start, end = parse_date_range(query)\n",
    "    return lat, lon, start, end\n",
    "\n",
    "def parse_path(req):\n",
    "    path = req['path']\n",
    "    param = path['parameter']\n",
    "    op = path['operation']\n",
    "    return param, op\n",
    "\n",
    "def parse_date_range(query):\n",
    "    if 'start_date' and 'end_date' in query.keys():\n",
    "        start_date = datetime.datetime.strptime(query['start_date'][0], '%Y-%m-%d')\n",
    "        end_date = datetime.datetime.strptime(query['end_date'][0], '%Y-%m-%d')\n",
    "    elif 'date' in query.keys():\n",
    "        start_date = datetime.datetime.strptime(query['date'][0], '%Y-%m-%d')\n",
    "        end_date = start_date + datetime.timedelta(days=1)\n",
    "    else:\n",
    "        start_date = datetime.datetime.now()\n",
    "        end_date = start_date + datetime.timedelta(days=1)\n",
    "    return start_date, end_date"
   ]
  },
  {
   "cell_type": "code",
   "execution_count": 212,
   "metadata": {
    "collapsed": true
   },
   "outputs": [],
   "source": [
    "def handle_request(req, mode, dates_func):\n",
    "    param, op = parse_path(req)\n",
    "    lat, lon, start, end = parse_query(req)\n",
    "\n",
    "    data_path = patterns[param]\n",
    "    operation = operations[op]\n",
    "\n",
    "    dates = dates_func(start, end)\n",
    "    cube = load_data(data_path, dates)\n",
    "    x, y = get_coords(cube, lat, lon)\n",
    "    \n",
    "    cache_key = (mode, param, x, y, start, end, operation)\n",
    "    \n",
    "    if CACHED_POINTS[cache_key] != None:\n",
    "        response = CACHED_POINTS[cache_key]\n",
    "    else:\n",
    "        response = get_response(cube, dates, x, y, operation)\n",
    "        CACHED_POINTS[cache_key] = response\n",
    "    return response"
   ]
  },
  {
   "cell_type": "code",
   "execution_count": 213,
   "metadata": {
    "collapsed": false,
    "deletable": true,
    "editable": true
   },
   "outputs": [
    {
     "name": "stdout",
     "output_type": "stream",
     "text": [
      "{\"graph\": \"https://s3-eu-west-1.amazonaws.com/microsoft-hack/0aa46020-6444-4a4a-abd9-8597731df315.png\", \"end_date\": \"2012-01-03\", \"value\": -1.4389586448669434, \"start_date\": \"1973-01-02\"}\n"
     ]
    },
    {
     "name": "stderr",
     "output_type": "stream",
     "text": [
      "/Users/alex/anaconda3/lib/python3.5/site-packages/iris/coords.py:992: UserWarning: Collapsing a non-contiguous coordinate. Metadata may not be fully descriptive for 'time'.\n",
      "  warnings.warn(msg.format(self.name()))\n"
     ]
    },
    {
     "data": {
      "image/png": "[encoded data removed]",
      "text/plain": [
       "<matplotlib.figure.Figure at 0x113c13908>"
      ]
     },
     "metadata": {},
     "output_type": "display_data"
    }
   ],
   "source": [
    "# GET /:parameter/:operation/climatology\n",
    "import json\n",
    "\n",
    "req = json.loads(REQUEST)\n",
    "response = handle_request(req, 'climatology', expand_years)\n",
    "print(json.dumps(response))"
   ]
  },
  {
   "cell_type": "code",
   "execution_count": 214,
   "metadata": {
    "collapsed": false,
    "deletable": true,
    "editable": true
   },
   "outputs": [
    {
     "name": "stdout",
     "output_type": "stream",
     "text": [
      "{\"graph\": \"https://s3-eu-west-1.amazonaws.com/microsoft-hack/49a21782-fd15-46fd-8b27-72385d810a21.png\", \"end_date\": \"2012-01-03\", \"value\": 11.354076385498047, \"start_date\": \"2012-01-02\"}\n"
     ]
    },
    {
     "data": {
      "image/png": "[encoded data removed]",
      "text/plain": [
       "<matplotlib.figure.Figure at 0x11a361f28>"
      ]
     },
     "metadata": {},
     "output_type": "display_data"
    }
   ],
   "source": [
    "# GET /:parameter/:operation/range\n",
    "import json\n",
    "\n",
    "req = json.loads(REQUEST)\n",
    "response = handle_request(req, 'range', select_all_days)\n",
    "print(json.dumps(response))"
   ]
  },
  {
   "cell_type": "code",
   "execution_count": 197,
   "metadata": {
    "collapsed": false,
    "deletable": true,
    "editable": true
   },
   "outputs": [
    {
     "name": "stdout",
     "output_type": "stream",
     "text": [
      "{\"headers\": {\"Content-Type\": \"application/json\"}}\n"
     ]
    }
   ],
   "source": [
    "# ResponseInfo GET /:parameter/mean/range\n",
    "print(json.dumps({\n",
    "    \"headers\" : {\n",
    "        \"Content-Type\" : \"application/json\"\n",
    "    }\n",
    "}))"
   ]
  },
  {
   "cell_type": "code",
   "execution_count": 198,
   "metadata": {
    "collapsed": false,
    "deletable": true,
    "editable": true
   },
   "outputs": [
    {
     "name": "stdout",
     "output_type": "stream",
     "text": [
      "{\"headers\": {\"Content-Type\": \"application/json\"}}\n"
     ]
    }
   ],
   "source": [
    "# ResponseInfo GET /:parameter/mean/climatology\n",
    "print(json.dumps({\n",
    "    \"headers\" : {\n",
    "        \"Content-Type\" : \"application/json\"\n",
    "    }\n",
    "}))"
   ]
  },
  {
   "cell_type": "code",
   "execution_count": null,
   "metadata": {
    "collapsed": true,
    "deletable": true,
    "editable": true
   },
   "outputs": [],
   "source": []
  },
  {
   "cell_type": "code",
   "execution_count": 50,
   "metadata": {
    "collapsed": false,
    "deletable": true,
    "editable": true
   },
   "outputs": [
    {
     "name": "stdout",
     "output_type": "stream",
     "text": [
      "Untitled.ipynb      \u001b[35mmaximum-temperature\u001b[m\u001b[m\r\n"
     ]
    }
   ],
   "source": [
    "!ls /opt/data"
   ]
  },
  {
   "cell_type": "code",
   "execution_count": null,
   "metadata": {
    "collapsed": true
   },
   "outputs": [],
   "source": []
  }
 ],
 "metadata": {
  "anaconda-cloud": {},
  "kernelspec": {
   "display_name": "Python 3",
   "language": "python",
   "name": "python3"
  },
  "language_info": {
   "codemirror_mode": {
    "name": "ipython",
    "version": 3
   },
   "file_extension": ".py",
   "mimetype": "text/x-python",
   "name": "python",
   "nbconvert_exporter": "python",
   "pygments_lexer": "ipython3",
   "version": "3.5.2"
  }
 },
 "nbformat": 4,
 "nbformat_minor": 2
}
