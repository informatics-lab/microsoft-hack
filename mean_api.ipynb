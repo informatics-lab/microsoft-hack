{
 "cells": [
  {
   "cell_type": "markdown",
   "metadata": {
    "deletable": true,
    "editable": true
   },
   "source": [
    "- Given a lat lon\n",
    "- Assume maximum temperature\n",
    "- convert lat lon to correct projection\n",
    "- join all times together\n",
    "- from megacube extract that geospatial point\n",
    "    - investgate interopolation vs. find nearest\n",
    "- collapse time by mean\n",
    "- return float"
   ]
  },
  {
   "cell_type": "code",
   "execution_count": 22,
   "metadata": {
    "collapsed": true
   },
   "outputs": [],
   "source": [
    "REQUEST = '''{\n",
    "    \"args\": {\n",
    "        \"date\": [\"2013-02-27\"],\n",
    "        \"start_date\": [\"2013-01-27\"],\n",
    "        \"end_date\": [\"2013-02-27\"],\n",
    "        \"lat\": [\"52\"],\n",
    "        \"lon\": [\"-1\"]\n",
    "    },\n",
    "    \"path\": {\n",
    "        \"parameter\": \"temperature\",\n",
    "        \"operation\": \"min\"\n",
    "    }\n",
    "}'''"
   ]
  },
  {
   "cell_type": "code",
   "execution_count": 2,
   "metadata": {
    "collapsed": false,
    "deletable": true,
    "editable": true
   },
   "outputs": [
    {
     "name": "stdout",
     "output_type": "stream",
     "text": [
      "hello world\n"
     ]
    }
   ],
   "source": [
    "# GET /helloworld\n",
    "\n",
    "print('hello world')\n"
   ]
  },
  {
   "cell_type": "code",
   "execution_count": 3,
   "metadata": {
    "collapsed": false,
    "deletable": true,
    "editable": true
   },
   "outputs": [],
   "source": [
    "import datetime\n",
    "import iris\n",
    "\n",
    "iris.FUTURE.netcdf_promote = True\n",
    "\n",
    "def load_data(pattern):\n",
    "    # pattern is glob style\n",
    "    cubes = iris.load('/opt/data/{}'.format(pattern))\n",
    "    return iris.cube.CubeList(cubes).concatenate_cube()\n"
   ]
  },
  {
   "cell_type": "code",
   "execution_count": 4,
   "metadata": {
    "collapsed": false,
    "deletable": true,
    "editable": true
   },
   "outputs": [],
   "source": [
    "import cartopy\n",
    "\n",
    "def transform_coords(cube, lon, lat):\n",
    "    expected_proj = cube.coords('projection_y_coordinate')[0].coord_system.as_cartopy_crs()\n",
    "    given_proj = cartopy.crs.PlateCarree()\n",
    "    return expected_proj.transform_point(lon, lat, given_proj)"
   ]
  },
  {
   "cell_type": "code",
   "execution_count": 5,
   "metadata": {
    "collapsed": false,
    "deletable": true,
    "editable": true
   },
   "outputs": [],
   "source": [
    "\n",
    "def get_coords(cube, lat, lon):\n",
    "    x, y = transform_coords(cube, lon, lat)\n",
    "    first_year = next(cube.slices_over('time'))\n",
    "    samples = [('projection_y_coordinate', y), ('projection_x_coordinate', x)]\n",
    "    first_point = first_year.interpolate(samples, iris.analysis.Nearest())\n",
    "    exact_x = first_point.coord('projection_x_coordinate')[0].points[0]\n",
    "    exact_y = first_point.coord('projection_y_coordinate')[0].points[0]\n",
    "    \n",
    "    return(exact_x, exact_y)\n",
    "    \n"
   ]
  },
  {
   "cell_type": "code",
   "execution_count": 6,
   "metadata": {
    "collapsed": false,
    "deletable": true,
    "editable": true
   },
   "outputs": [],
   "source": [
    "\n",
    "def collapse_latlon(cube, x, y):\n",
    "    x_const = iris.Constraint(projection_x_coordinate=x)\n",
    "    y_const = iris.Constraint(projection_y_coordinate=y)\n",
    "    return cube.extract(x_const).extract(y_const)"
   ]
  },
  {
   "cell_type": "code",
   "execution_count": 7,
   "metadata": {
    "collapsed": false,
    "deletable": true,
    "editable": true
   },
   "outputs": [],
   "source": [
    "from datetime import timedelta\n",
    "\n",
    "def expand_years(start, end, past_years=10):\n",
    "    years = [\n",
    "        datetime.datetime(\n",
    "            d.year - i,\n",
    "            d.month,\n",
    "            d.day)\n",
    "        for i in range(past_years)\n",
    "        for d in select_all_days(start, end)]\n",
    "    return years\n",
    "\n",
    "def select_all_days(start, end):\n",
    "    delta = end - start\n",
    "    days = [end - timedelta(days=i) for i in range(delta.days)]\n",
    "    return days\n",
    "\n",
    "def extract_dates(cube, dates):\n",
    "    time_units = cube.coord('time').units\n",
    "    vals = [time_units.date2num(date) for date in dates]\n",
    "    time_constraint = iris.Constraint(time=vals)\n",
    "    return cube.extract(time_constraint)"
   ]
  },
  {
   "cell_type": "code",
   "execution_count": 15,
   "metadata": {
    "collapsed": false,
    "deletable": true,
    "editable": true
   },
   "outputs": [],
   "source": [
    "def mean(cube):\n",
    "    return cube.collapsed('time', iris.analysis.MEAN)\n",
    "\n",
    "def cmax(cube):\n",
    "    return cube.collapsed('time', iris.analysis.MAX)\n",
    "\n",
    "def cmin(cube):\n",
    "    return cube.collapsed('time', iris.analysis.MIN)"
   ]
  },
  {
   "cell_type": "code",
   "execution_count": 16,
   "metadata": {
    "collapsed": true,
    "deletable": true,
    "editable": true
   },
   "outputs": [],
   "source": [
    "patterns = {\n",
    "    'temperature': 'maximum-temperature/*.nc',\n",
    "    'rainfall': 'rainfall/*.nc'\n",
    "}\n",
    "\n",
    "operations = {\n",
    "    'mean': mean,\n",
    "    'max': cmax,\n",
    "    'min': cmin\n",
    "}"
   ]
  },
  {
   "cell_type": "code",
   "execution_count": 25,
   "metadata": {
    "collapsed": true,
    "deletable": true,
    "editable": true
   },
   "outputs": [],
   "source": [
    "from collections import defaultdict\n",
    "CACHED_POINTS = defaultdict(lambda: None)"
   ]
  },
  {
   "cell_type": "code",
   "execution_count": 23,
   "metadata": {
    "collapsed": true,
    "deletable": true,
    "editable": true
   },
   "outputs": [],
   "source": [
    "def get_response(cube, dates, x, y, operation):\n",
    "    time_cube = collapse_latlon(cube, x, y)\n",
    "    collapsed_time_cube = extract_dates(time_cube, dates)\n",
    "    \n",
    "    val = float(operation(collapsed_time_cube).data)\n",
    "    \n",
    "    response = {\n",
    "        'value': val,\n",
    "        'start_date': dates[-1].strftime('%Y-%m-%d'),\n",
    "        'end_date': dates[0].strftime('%Y-%m-%d')\n",
    "    }\n",
    "    return response"
   ]
  },
  {
   "cell_type": "code",
   "execution_count": 33,
   "metadata": {
    "collapsed": true
   },
   "outputs": [],
   "source": [
    "def parse_query(req):\n",
    "    query = req['args']\n",
    "    lat = float(args['lat'][0])\n",
    "    lon = float(args['lon'][0])\n",
    "    start, end = parse_date_range(query)\n",
    "    return lat, lon, start, end\n",
    "\n",
    "def parse_path(req):\n",
    "    path = req['path']\n",
    "    param = path['parameter']\n",
    "    op = path['operation']\n",
    "    return param, op\n",
    "\n",
    "def parse_date_range(query):\n",
    "    if 'start_date' and 'end_date' in query.keys():\n",
    "        start_date = datetime.datetime.strptime(args['start_date'][0], '%Y-%m-%d')\n",
    "        end_date = datetime.datetime.strptime(args['end_date'][0], '%Y-%m-%d')\n",
    "    elif 'date' in query.keys():\n",
    "        start_date = datetime.datetime.strptime(args['date'][0], '%Y-%m-%d')\n",
    "        end_date = start_date + datetime.timedelta(days=1)\n",
    "    else:\n",
    "        start_date = datetime.datetime.now()\n",
    "        end_date = start_date + datetime.timedelta(days=1)\n",
    "    return start_date, end_date"
   ]
  },
  {
   "cell_type": "code",
   "execution_count": 43,
   "metadata": {
    "collapsed": false,
    "deletable": true,
    "editable": true
   },
   "outputs": [
    {
     "name": "stdout",
     "output_type": "stream",
     "text": [
      "{\"value\": 1.8729329109191895, \"start_date\": \"2004-01-27\", \"end_date\": \"2013-01-27\"}\n"
     ]
    }
   ],
   "source": [
    "# GET /:parameter/:operation/climatology\n",
    "import json\n",
    "\n",
    "req = json.loads(REQUEST)\n",
    "\n",
    "param, op = parse_path(req)\n",
    "lat, lon, start, end = parse_query(req)\n",
    "\n",
    "data_path = patterns[param]\n",
    "operation = operations[op]\n",
    "\n",
    "cube = load_data(data_path)\n",
    "x, y = get_coords(cube, lat, lon)\n",
    "\n",
    "cache_key = ('climatology', param, x, y, start, end, operation)\n",
    "\n",
    "if CACHED_POINTS[cache_key] != None:\n",
    "    response = CACHED_POINTS[cache_key]\n",
    "else:\n",
    "    dates = expand_years(start_date)\n",
    "    response = get_response(cube, dates, x, y, operation)\n",
    "    CACHED_POINTS[cache_key] = response\n",
    "\n",
    "print(json.dumps(response))"
   ]
  },
  {
   "cell_type": "code",
   "execution_count": 42,
   "metadata": {
    "collapsed": false,
    "deletable": true,
    "editable": true
   },
   "outputs": [
    {
     "name": "stdout",
     "output_type": "stream",
     "text": [
      "{\"value\": 0.7139625549316406, \"start_date\": \"2013-01-28\", \"end_date\": \"2013-02-27\"}\n"
     ]
    }
   ],
   "source": [
    "# GET /:parameter/:operation/range\n",
    "import json\n",
    "\n",
    "req = json.loads(REQUEST)\n",
    "\n",
    "param, op = parse_path(req)\n",
    "lat, lon, start, end = parse_query(req)\n",
    "\n",
    "data_path = patterns[param]\n",
    "operation = operations[op]\n",
    "\n",
    "cube = load_data(data_path)\n",
    "x, y = get_coords(cube, lat, lon)\n",
    "\n",
    "cache_key = ('range', param, x, y, start, end, operation)\n",
    "\n",
    "if CACHED_POINTS[cache_key] != None:\n",
    "    response = CACHED_POINTS[cache_key]\n",
    "else:\n",
    "    dates = select_all_days(start, end)\n",
    "    response = get_response(cube, dates, x, y, operation)\n",
    "    CACHED_POINTS[cache_key] = response\n",
    "\n",
    "print(json.dumps(response))"
   ]
  },
  {
   "cell_type": "code",
   "execution_count": 57,
   "metadata": {
    "collapsed": false,
    "deletable": true,
    "editable": true
   },
   "outputs": [
    {
     "name": "stdout",
     "output_type": "stream",
     "text": [
      "{\"headers\": {\"Content-Type\": \"application/json\"}}\n"
     ]
    }
   ],
   "source": [
    "# ResponseInfo GET /:parameter/mean/range\n",
    "print(json.dumps({\n",
    "    \"headers\" : {\n",
    "        \"Content-Type\" : \"application/json\"\n",
    "    }\n",
    "}))"
   ]
  },
  {
   "cell_type": "code",
   "execution_count": null,
   "metadata": {
    "collapsed": true,
    "deletable": true,
    "editable": true
   },
   "outputs": [],
   "source": [
    "# ResponseInfo GET /:parameter/mean/climatology\n",
    "print(json.dumps({\n",
    "    \"headers\" : {\n",
    "        \"Content-Type\" : \"application/json\"\n",
    "    }\n",
    "}))"
   ]
  },
  {
   "cell_type": "code",
   "execution_count": null,
   "metadata": {
    "collapsed": true,
    "deletable": true,
    "editable": true
   },
   "outputs": [],
   "source": []
  },
  {
   "cell_type": "code",
   "execution_count": null,
   "metadata": {
    "collapsed": true,
    "deletable": true,
    "editable": true
   },
   "outputs": [],
   "source": []
  }
 ],
 "metadata": {
  "anaconda-cloud": {},
  "kernelspec": {
   "display_name": "Python [default]",
   "language": "python",
   "name": "python3"
  },
  "language_info": {
   "codemirror_mode": {
    "name": "ipython",
    "version": 3
   },
   "file_extension": ".py",
   "mimetype": "text/x-python",
   "name": "python",
   "nbconvert_exporter": "python",
   "pygments_lexer": "ipython3",
   "version": "3.5.0rc4"
  }
 },
 "nbformat": 4,
 "nbformat_minor": 2
}
