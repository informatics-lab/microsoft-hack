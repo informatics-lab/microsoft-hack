{
 "cells": [
  {
   "cell_type": "markdown",
   "metadata": {
    "deletable": true,
    "editable": true
   },
   "source": [
    "- Given a lat lon\n",
    "- Assume maximum temperature\n",
    "- convert lat lon to correct projection\n",
    "- join all times together\n",
    "- from megacube extract that geospatial point\n",
    "    - investgate interopolation vs. find nearest\n",
    "- collapse time by mean\n",
    "- return float"
   ]
  },
  {
   "cell_type": "code",
   "execution_count": 19,
   "metadata": {
    "collapsed": false
   },
   "outputs": [],
   "source": [
    "REQUEST = '''{\n",
    "    \"args\": {\n",
    "        \"date\": [\"2013-02-27\"],\n",
    "        \"start_date\": [\"2013-01-27\"],\n",
    "        \"end_date\": [\"2013-02-27\"],\n",
    "        \"lat\": [\"52\"],\n",
    "        \"lon\": [\"-1\"]\n",
    "    },\n",
    "    \"path\": {\n",
    "        \"parameter\": \"temperature\"\n",
    "    }\n",
    "}'''"
   ]
  },
  {
   "cell_type": "code",
   "execution_count": 20,
   "metadata": {
    "collapsed": false,
    "deletable": true,
    "editable": true
   },
   "outputs": [
    {
     "name": "stdout",
     "output_type": "stream",
     "text": [
      "hello world\n"
     ]
    }
   ],
   "source": [
    "# GET /helloworld\n",
    "\n",
    "print('hello world')\n"
   ]
  },
  {
   "cell_type": "code",
   "execution_count": 21,
   "metadata": {
    "collapsed": false,
    "deletable": true,
    "editable": true
   },
   "outputs": [],
   "source": [
    "import datetime\n",
    "import iris\n",
    "\n",
    "iris.FUTURE.netcdf_promote = True\n",
    "\n",
    "def load_data(pattern):\n",
    "    # pattern is glob style\n",
    "    cubes = iris.load('/opt/data/{}'.format(pattern))\n",
    "    return iris.cube.CubeList(cubes).concatenate_cube()\n"
   ]
  },
  {
   "cell_type": "code",
   "execution_count": 22,
   "metadata": {
    "collapsed": false,
    "deletable": true,
    "editable": true
   },
   "outputs": [],
   "source": [
    "import cartopy\n",
    "\n",
    "def transform_coords(cube, lon, lat):\n",
    "    expected_proj = cube.coords('projection_y_coordinate')[0].coord_system.as_cartopy_crs()\n",
    "    given_proj = cartopy.crs.PlateCarree()\n",
    "    return expected_proj.transform_point(lon, lat, given_proj)"
   ]
  },
  {
   "cell_type": "code",
   "execution_count": 23,
   "metadata": {
    "collapsed": false,
    "deletable": true,
    "editable": true
   },
   "outputs": [],
   "source": [
    "\n",
    "def get_coords(cube, lat, lon):\n",
    "    x, y = transform_coords(cube, lon, lat)\n",
    "    first_year = next(cube.slices_over('time'))\n",
    "    samples = [('projection_y_coordinate', y), ('projection_x_coordinate', x)]\n",
    "    first_point = first_year.interpolate(samples, iris.analysis.Nearest())\n",
    "    exact_x = first_point.coord('projection_x_coordinate')[0].points[0]\n",
    "    exact_y = first_point.coord('projection_y_coordinate')[0].points[0]\n",
    "    \n",
    "    return(exact_x, exact_y)\n",
    "    \n"
   ]
  },
  {
   "cell_type": "code",
   "execution_count": 24,
   "metadata": {
    "collapsed": false,
    "deletable": true,
    "editable": true
   },
   "outputs": [],
   "source": [
    "\n",
    "def collapse_latlon(cube, x, y):\n",
    "    x_const = iris.Constraint(projection_x_coordinate=x)\n",
    "    y_const = iris.Constraint(projection_y_coordinate=y)\n",
    "    return cube.extract(x_const).extract(y_const)\n",
    "\n"
   ]
  },
  {
   "cell_type": "code",
   "execution_count": 25,
   "metadata": {
    "collapsed": false,
    "deletable": true,
    "editable": true
   },
   "outputs": [],
   "source": [
    "from datetime import timedelta\n",
    "\n",
    "def expand_years(end_date, past_years=10):\n",
    "    years = [\n",
    "        datetime.datetime(\n",
    "            end_date.year - i,\n",
    "            end_date.month,\n",
    "            end_date.day)\n",
    "        for i in range(past_years)]\n",
    "    return years\n",
    "\n",
    "def select_all_days(start, end):\n",
    "    delta = end - start\n",
    "    days = [end - timedelta(days=i) for i in range(delta.days)]\n",
    "    return days\n",
    "\n",
    "def extract_dates(cube, dates):\n",
    "    time_units = cube.coord('time').units\n",
    "    vals = [time_units.date2num(date) for date in dates]\n",
    "    time_constraint = iris.Constraint(time=vals)\n",
    "    return cube.extract(time_constraint)"
   ]
  },
  {
   "cell_type": "code",
   "execution_count": 26,
   "metadata": {
    "collapsed": false,
    "deletable": true,
    "editable": true
   },
   "outputs": [],
   "source": [
    "\n",
    "def mean(cube):\n",
    "    return cube.collapsed('time', iris.analysis.MEAN)\n"
   ]
  },
  {
   "cell_type": "code",
   "execution_count": 27,
   "metadata": {
    "collapsed": true,
    "deletable": true,
    "editable": true
   },
   "outputs": [],
   "source": [
    "patterns = {\n",
    "    'temperature': 'maximum-temperature/',\n",
    "    'rainfall': 'rainfall/'\n",
    "}"
   ]
  },
  {
   "cell_type": "code",
   "execution_count": 28,
   "metadata": {
    "collapsed": true
   },
   "outputs": [],
   "source": [
    "def get_pattern(parameter, dates):\n",
    "    base = patterns[parameter]\n",
    "    years = set([date.year for date in dates])\n",
    "    pattern = '*_('+'|'.join([str(y) for y in years])+')*.nc'\n",
    "    return base + pattern"
   ]
  },
  {
   "cell_type": "code",
   "execution_count": 38,
   "metadata": {
    "collapsed": true,
    "deletable": true,
    "editable": true
   },
   "outputs": [],
   "source": [
    "from collections import defaultdict\n",
    "CACHED_POINTS = defaultdict(lambda: None)"
   ]
  },
  {
   "cell_type": "code",
   "execution_count": 39,
   "metadata": {
    "collapsed": true,
    "deletable": true,
    "editable": true
   },
   "outputs": [],
   "source": [
    "def get_response(cube, dates, x, y):\n",
    "    time_cube = collapse_latlon(cube, x, y)\n",
    "    collapsed_time_cube = extract_dates(time_cube, dates)\n",
    "    \n",
    "    val = float(mean(collapsed_time_cube).data)\n",
    "    \n",
    "    response = {\n",
    "        'value': val,\n",
    "        'operation': 'mean',\n",
    "        'start_date': dates[-1].strftime('%Y-%m-%d'),\n",
    "        'end_date': dates[0].strftime('%Y-%m-%d')\n",
    "    }\n",
    "    return response"
   ]
  },
  {
   "cell_type": "code",
   "execution_count": 42,
   "metadata": {
    "collapsed": false,
    "deletable": true,
    "editable": true
   },
   "outputs": [
    {
     "name": "stdout",
     "output_type": "stream",
     "text": [
      "{\"end_date\": \"2013-02-27\", \"operation\": \"mean\", \"value\": 7.932449066638947, \"start_date\": \"2004-02-27\"}\n"
     ]
    },
    {
     "name": "stderr",
     "output_type": "stream",
     "text": [
      "/Users/alex/anaconda3/lib/python3.5/site-packages/iris/coords.py:992: UserWarning: Collapsing a non-contiguous coordinate. Metadata may not be fully descriptive for 'time'.\n",
      "  warnings.warn(msg.format(self.name()))\n"
     ]
    }
   ],
   "source": [
    "# GET /:parameter/mean/climatology\n",
    "import json\n",
    "\n",
    "req = json.loads(REQUEST)\n",
    "\n",
    "args = req['args']\n",
    "lat = float(args['lat'][0])\n",
    "lon = float(args['lon'][0])\n",
    "\n",
    "if 'date' in args.keys():\n",
    "    date = datetime.datetime.strptime(args['date'][0], '%Y-%m-%d')\n",
    "else:\n",
    "    date = datetime.datetime.now()\n",
    "\n",
    "path = req['path']\n",
    "param = path['parameter']\n",
    "\n",
    "dates = expand_years(date)\n",
    "data_path = get_pattern(param, dates)\n",
    "cube = load_data(data_path)\n",
    "x, y = get_coords(cube, lat, lon)\n",
    "\n",
    "cache_key = ('climatology', param, x, y)\n",
    "if CACHED_POINTS[cache_key] != None:\n",
    "    response = CACHED_POINTS[cache_key]\n",
    "else:\n",
    "    response = get_response(cube, dates, x, y)\n",
    "    CACHED_POINTS[cache_key] = response\n",
    "\n",
    "print(json.dumps(response))"
   ]
  },
  {
   "cell_type": "code",
   "execution_count": null,
   "metadata": {
    "collapsed": false,
    "deletable": true,
    "editable": true
   },
   "outputs": [],
   "source": [
    "# GET /:parameter/mean/range\n",
    "import json\n",
    "\n",
    "req = json.loads(REQUEST)\n",
    "\n",
    "args = req['args']\n",
    "lat = float(args['lat'][0])\n",
    "lon = float(args['lon'][0])\n",
    "\n",
    "start_date = datetime.datetime.strptime(args['start_date'][0], '%Y-%m-%d')\n",
    "end_date = datetime.datetime.strptime(args['end_date'][0], '%Y-%m-%d')\n",
    "\n",
    "path = req['path']\n",
    "param = path['parameter']\n",
    "data_path = patterns[param]\n",
    "cube = load_data(data_path)\n",
    "x, y = get_coords(cube, lat, lon)\n",
    "\n",
    "cache_key = ('range', param, x, y)\n",
    "\n",
    "if CACHED_POINTS[cache_key] != None:\n",
    "    response = CACHED_POINTS[cache_key]\n",
    "else:\n",
    "    dates = select_all_days(start_date, end_date)\n",
    "    response = get_response(cube, dates, x, y)\n",
    "    CACHED_POINTS[cache_key] = response\n",
    "\n",
    "print(json.dumps(response))"
   ]
  },
  {
   "cell_type": "code",
   "execution_count": 24,
   "metadata": {
    "collapsed": false,
    "deletable": true,
    "editable": true
   },
   "outputs": [
    {
     "ename": "NameError",
     "evalue": "name 'json' is not defined",
     "output_type": "error",
     "traceback": [
      "\u001b[0;31m---------------------------------------------------------------------------\u001b[0m",
      "\u001b[0;31mNameError\u001b[0m                                 Traceback (most recent call last)",
      "\u001b[0;32m<ipython-input-24-099f5a4dd622>\u001b[0m in \u001b[0;36m<module>\u001b[0;34m()\u001b[0m\n\u001b[1;32m      1\u001b[0m \u001b[0;31m# ResponseInfo GET /:parameter/mean\u001b[0m\u001b[0;34m\u001b[0m\u001b[0;34m\u001b[0m\u001b[0m\n\u001b[0;32m----> 2\u001b[0;31m print(json.dumps({\n\u001b[0m\u001b[1;32m      3\u001b[0m     \"headers\" : {\n\u001b[1;32m      4\u001b[0m         \u001b[0;34m\"Content-Type\"\u001b[0m \u001b[0;34m:\u001b[0m \u001b[0;34m\"application/json\"\u001b[0m\u001b[0;34m\u001b[0m\u001b[0m\n\u001b[1;32m      5\u001b[0m     }\n",
      "\u001b[0;31mNameError\u001b[0m: name 'json' is not defined"
     ]
    }
   ],
   "source": [
    "# ResponseInfo GET /:parameter/mean/range\n",
    "print(json.dumps({\n",
    "    \"headers\" : {\n",
    "        \"Content-Type\" : \"application/json\"\n",
    "    }\n",
    "}))"
   ]
  },
  {
   "cell_type": "code",
   "execution_count": null,
   "metadata": {
    "collapsed": true,
    "deletable": true,
    "editable": true
   },
   "outputs": [],
   "source": [
    "# ResponseInfo GET /:parameter/mean/climatology\n",
    "print(json.dumps({\n",
    "    \"headers\" : {\n",
    "        \"Content-Type\" : \"application/json\"\n",
    "    }\n",
    "}))"
   ]
  },
  {
   "cell_type": "code",
   "execution_count": null,
   "metadata": {
    "collapsed": true,
    "deletable": true,
    "editable": true
   },
   "outputs": [],
   "source": []
  },
  {
   "cell_type": "code",
   "execution_count": null,
   "metadata": {
    "collapsed": true,
    "deletable": true,
    "editable": true
   },
   "outputs": [],
   "source": []
  }
 ],
 "metadata": {
  "anaconda-cloud": {},
  "kernelspec": {
   "display_name": "Python 3",
   "language": "python",
   "name": "python3"
  },
  "language_info": {
   "codemirror_mode": {
    "name": "ipython",
    "version": 3
   },
   "file_extension": ".py",
   "mimetype": "text/x-python",
   "name": "python",
   "nbconvert_exporter": "python",
   "pygments_lexer": "ipython3",
   "version": "3.5.2"
  }
 },
 "nbformat": 4,
 "nbformat_minor": 2
}
