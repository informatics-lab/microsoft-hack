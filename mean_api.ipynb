{
 "cells": [
  {
   "cell_type": "markdown",
   "metadata": {
    "deletable": true,
    "editable": true
   },
   "source": [
    "- Given a lat lon\n",
    "- Assume maximum temperature\n",
    "- convert lat lon to correct projection\n",
    "- join all times together\n",
    "- from megacube extract that geospatial point\n",
    "    - investgate interopolation vs. find nearest\n",
    "- collapse time by mean\n",
    "- return float"
   ]
  },
  {
   "cell_type": "code",
   "execution_count": 5,
   "metadata": {
    "collapsed": true
   },
   "outputs": [],
   "source": [
    "REQUEST = '''{\n",
    "    \"args\": {\n",
    "        \"lat\": [\"51.473\"],\n",
    "        \"lon\": [\"-0.4487\"]\n",
    "    },\n",
    "    \"path\": {\n",
    "        \"parameter\": \"temperature\",\n",
    "        \"operation\": \"mean\"\n",
    "    }\n",
    "}'''\n"
   ]
  },
  {
   "cell_type": "code",
   "execution_count": 6,
   "metadata": {
    "collapsed": false,
    "deletable": true,
    "editable": true
   },
   "outputs": [
    {
     "name": "stdout",
     "output_type": "stream",
     "text": [
      "hello world\n"
     ]
    }
   ],
   "source": [
    "# GET /helloworld\n",
    "\n",
    "print('hello world')\n"
   ]
  },
  {
   "cell_type": "code",
   "execution_count": null,
   "metadata": {
    "collapsed": true
   },
   "outputs": [],
   "source": [
    "# GET /cache\n",
    "\n",
    "print(CACHED_POINTS)"
   ]
  },
  {
   "cell_type": "code",
   "execution_count": 28,
   "metadata": {
    "collapsed": false,
    "deletable": true,
    "editable": true
   },
   "outputs": [],
   "source": [
    "import datetime\n",
    "import iris\n",
    "\n",
    "iris.FUTURE.netcdf_promote = True\n",
    "\n",
    "def load_data(data_path, dates):\n",
    "    filenames = get_filenames(data_path, dates)\n",
    "    cubes = iris.load(filenames)\n",
    "    return iris.cube.CubeList(cubes).concatenate_cube()"
   ]
  },
  {
   "cell_type": "code",
   "execution_count": 29,
   "metadata": {
    "collapsed": false,
    "deletable": true,
    "editable": true
   },
   "outputs": [],
   "source": [
    "import cartopy\n",
    "\n",
    "def transform_coords(cube, lon, lat):\n",
    "    expected_proj = cube.coords('projection_y_coordinate')[0].coord_system.as_cartopy_crs()\n",
    "    given_proj = cartopy.crs.PlateCarree()\n",
    "    return expected_proj.transform_point(lon, lat, given_proj)"
   ]
  },
  {
   "cell_type": "code",
   "execution_count": 30,
   "metadata": {
    "collapsed": false,
    "deletable": true,
    "editable": true
   },
   "outputs": [],
   "source": [
    "\n",
    "def get_coords(cube, lat, lon):\n",
    "    x, y = transform_coords(cube, lon, lat)\n",
    "    first_year = next(cube.slices_over('time'))\n",
    "    samples = [('projection_y_coordinate', y), ('projection_x_coordinate', x)]\n",
    "    first_point = first_year.interpolate(samples, iris.analysis.Nearest())\n",
    "    exact_x = first_point.coord('projection_x_coordinate')[0].points[0]\n",
    "    exact_y = first_point.coord('projection_y_coordinate')[0].points[0]\n",
    "    \n",
    "    return(exact_x, exact_y)\n",
    "    \n"
   ]
  },
  {
   "cell_type": "code",
   "execution_count": 31,
   "metadata": {
    "collapsed": false,
    "deletable": true,
    "editable": true
   },
   "outputs": [],
   "source": [
    "\n",
    "def collapse_latlon(cube, x, y):\n",
    "    x_const = iris.Constraint(projection_x_coordinate=x)\n",
    "    y_const = iris.Constraint(projection_y_coordinate=y)\n",
    "    return cube.extract(x_const).extract(y_const)"
   ]
  },
  {
   "cell_type": "code",
   "execution_count": 32,
   "metadata": {
    "collapsed": false,
    "deletable": true,
    "editable": true
   },
   "outputs": [],
   "source": [
    "from datetime import timedelta\n",
    "\n",
    "def expand_years(start, end, past_years=10):\n",
    "    years = [\n",
    "        datetime.datetime(\n",
    "            d.year - i,\n",
    "            d.month,\n",
    "            d.day)\n",
    "        for i in range(past_years)\n",
    "        for d in select_all_days(start, end)]\n",
    "    return years\n",
    "\n",
    "def select_all_days(start, end):\n",
    "    delta = end - start\n",
    "    if delta.days == 0:\n",
    "        days = [start]\n",
    "    else:\n",
    "        days = [end - timedelta(days=i) for i in range(delta.days + 1)] #include start and end\n",
    "    return days\n",
    "\n",
    "def extract_dates(cube, dates):\n",
    "    time_units = cube.coord('time').units\n",
    "    vals = [time_units.date2num(date + timedelta(hours=12)) for date in dates] #12pm, not midnight\n",
    "    time_constraint = iris.Constraint(time=vals)\n",
    "    return cube.extract(time_constraint)\n",
    "\n",
    "def extract_range(cube, start, end):\n",
    "    time_units = cube.coord('time').units\n",
    "    start_val = time_units.date2num(start + timedelta(hours=12)) #12pm, not midnight\n",
    "    end_val = time_units.date2num(end + timedelta(hours=12))\n",
    "    time_constraint = iris.Constraint(time=lambda t: start_val <= t.point <= end_val)\n",
    "    return cube.extract(time_constraint)"
   ]
  },
  {
   "cell_type": "code",
   "execution_count": 33,
   "metadata": {
    "collapsed": false,
    "deletable": true,
    "editable": true
   },
   "outputs": [],
   "source": [
    "import numpy as np\n",
    "\n",
    "def mean(cube):\n",
    "    return [cube.collapsed('time', iris.analysis.MEAN)]\n",
    "\n",
    "def cmax(cube):\n",
    "    max_slice = cube[np.argmax(cube.data)]\n",
    "    time_coord = max_slice.coords('time')[0]\n",
    "    return (max_slice, time_coord.units.num2date(time_coord.points[0]))\n",
    "\n",
    "def cmin(cube):\n",
    "    min_slice = cube[np.argmin(cube.data)]\n",
    "    time_coord = min_slice.coords('time')[0]\n",
    "    return (min_slice, time_coord.units.num2date(time_coord.points[0]))"
   ]
  },
  {
   "cell_type": "code",
   "execution_count": 34,
   "metadata": {
    "collapsed": false,
    "deletable": true,
    "editable": true
   },
   "outputs": [],
   "source": [
    "patterns = {\n",
    "    'temperature': 'maximum-temperature',\n",
    "    'rainfall': 'rainfall'\n",
    "}\n",
    "\n",
    "operations = {\n",
    "    'mean': mean,\n",
    "    'max': cmax,\n",
    "    'min': cmin\n",
    "}"
   ]
  },
  {
   "cell_type": "code",
   "execution_count": 35,
   "metadata": {
    "collapsed": true
   },
   "outputs": [],
   "source": [
    "import glob\n",
    "def get_filenames(data_path, dates):\n",
    "    years = set([date.year for date in dates])\n",
    "    filenames = [f for y in years for f in glob.glob('/opt/data/daily/{}/*_{}*.nc'.format(data_path, y))]\n",
    "    return filenames"
   ]
  },
  {
   "cell_type": "code",
   "execution_count": 36,
   "metadata": {
    "collapsed": true,
    "deletable": true,
    "editable": true
   },
   "outputs": [],
   "source": [
    "from collections import defaultdict\n",
    "CACHED_POINTS = defaultdict(lambda: None)"
   ]
  },
  {
   "cell_type": "code",
   "execution_count": 37,
   "metadata": {
    "collapsed": true,
    "deletable": true,
    "editable": true
   },
   "outputs": [],
   "source": [
    "import io\n",
    "import boto3\n",
    "import uuid\n",
    "import matplotlib.pyplot as plt\n",
    "import numpy\n",
    "\n",
    "def upload_image(byte_data):\n",
    "    bucket_name = 'microsoft-hack'\n",
    "    s3 = boto3.resource('s3')\n",
    "    bucket = s3.Bucket(bucket_name)\n",
    "    uid = str(uuid.uuid4())\n",
    "    bucket.put_object(\n",
    "        Body=byte_data,\n",
    "        ContentType='image/png',\n",
    "        Key='{}.png'.format(uid),\n",
    "        ACL='public-read')\n",
    "    \n",
    "    return 'https://s3-eu-west-1.amazonaws.com/{}/{}.png'.format(bucket_name, uid)\n",
    "\n",
    "def graph(cube, times):\n",
    "    \n",
    "    title = cube.standard_name.title().replace('_', ' ')\n",
    "\n",
    "\n",
    "    time_units = cube.coord('time').units\n",
    "    times = time_units.num2date(cube.coords('time')[0].points)\n",
    "    plt.plot(times, cube.data, 'b:o')\n",
    "    plt.xticks(rotation=45)\n",
    "    plt.ylabel(title+'('+str(cube.units)+')')\n",
    "    img_data = io.BytesIO()\n",
    "    plt.savefig(img_data, format='png')\n",
    "    plt.clf()\n",
    "    img_data.seek(0)\n",
    "    s3_url = upload_image(img_data)\n",
    "    return s3_url\n",
    "\n",
    "def get_response(cube, dates, x, y, operation, mode):\n",
    "    time_cube = collapse_latlon(cube, x, y)\n",
    "    if mode == \"climatology\":\n",
    "        collapsed_time_cube = extract_dates(time_cube, dates)\n",
    "    else:\n",
    "        collapsed_time_cube = extract_range(time_cube, dates[-1], dates[0])\n",
    "    \n",
    "    s3_url = graph(collapsed_time_cube, dates)\n",
    "\n",
    "    result = operation(collapsed_time_cube)\n",
    "\n",
    "\n",
    "    cube_answer = result[0]\n",
    "    \n",
    "    try:\n",
    "        time_answer = result[1]\n",
    "    except IndexError:\n",
    "        time_answer = None\n",
    "    \n",
    "    value = \"%.2f\" % round(float(cube_answer.data), 2)\n",
    "        \n",
    "    response = {\n",
    "        'value': value,\n",
    "        'start_date': dates[-1].strftime('%Y-%m-%d'),\n",
    "        'end_date': dates[0].strftime('%Y-%m-%d'),\n",
    "        'graph': s3_url\n",
    "    }\n",
    "    \n",
    "    if time_answer is not None:\n",
    "        # we only support one day as the answer\n",
    "        time_answer_start = time_answer.strftime('%Y-%m-%d')\n",
    "        time_answer_end = time_answer_start\n",
    "        \n",
    "        response['time_answer_start'] = time_answer_start\n",
    "        response['time_answer_end'] = time_answer_start\n",
    "    \n",
    "    return response"
   ]
  },
  {
   "cell_type": "code",
   "execution_count": 38,
   "metadata": {
    "collapsed": true
   },
   "outputs": [],
   "source": [
    "def parse_query(req, mode):\n",
    "    query = req['args']\n",
    "    lat = float(query['lat'][0])\n",
    "    lon = float(query['lon'][0])\n",
    "    start, end = parse_date_range(query, mode)\n",
    "    return lat, lon, start, end\n",
    "\n",
    "def parse_path(req):\n",
    "    path = req['path']\n",
    "    param = path['parameter']\n",
    "    op = path['operation']\n",
    "    return param, op\n",
    "\n",
    "def get_start_date(end_date, past_years=10):\n",
    "    return datetime.datetime(end_date.year - past_years, end_date.month, end_date.day)\n",
    "\n",
    "def parse_date_range(query, mode):\n",
    "    # if it's a climatology, default start date to end date\n",
    "    # if it's a range, default start date to 'records began'\n",
    "    if 'start_date' and 'end_date' in query.keys():\n",
    "        start_date = datetime.datetime.strptime(query['start_date'][0], '%Y-%m-%d')\n",
    "        end_date = datetime.datetime.strptime(query['end_date'][0], '%Y-%m-%d')\n",
    "    elif 'date' in query.keys():\n",
    "        start_date = datetime.datetime.strptime(query['date'][0], '%Y-%m-%d')\n",
    "        end_date = start_date\n",
    "    else:\n",
    "        end_date = datetime.datetime.now()\n",
    "        if mode=='climatology':\n",
    "            start_date = end_date\n",
    "        else:\n",
    "            start_date = get_start_date(end_date)\n",
    "    return start_date, end_date"
   ]
  },
  {
   "cell_type": "code",
   "execution_count": 39,
   "metadata": {
    "collapsed": true
   },
   "outputs": [],
   "source": [
    "def handle_request(req, mode, dates_func):\n",
    "    param, op = parse_path(req)\n",
    "    lat, lon, start, end = parse_query(req, mode)\n",
    "\n",
    "    data_path = patterns[param]\n",
    "    operation = operations[op]\n",
    "\n",
    "    dates = dates_func(start, end)\n",
    "    cube = load_data(data_path, dates)\n",
    "    x, y = get_coords(cube, lat, lon)\n",
    "    \n",
    "    cache_key = (mode, param, x, y, start, end, operation)\n",
    "    \n",
    "    if CACHED_POINTS[cache_key] != None:\n",
    "        response = CACHED_POINTS[cache_key]\n",
    "    else:\n",
    "        response = get_response(cube, dates, x, y, operation, mode)\n",
    "        CACHED_POINTS[cache_key] = response\n",
    "    return response"
   ]
  },
  {
   "cell_type": "code",
   "execution_count": 47,
   "metadata": {
    "collapsed": true
   },
   "outputs": [],
   "source": [
    "REQUEST = '''{\n",
    "    \"args\": {\n",
    "        \"lat\": [\"51.473\"],\n",
    "        \"lon\": [\"-0.4487\"]\n",
    "    },\n",
    "    \"path\": {\n",
    "        \"parameter\": \"temperature\",\n",
    "        \"operation\": \"min\"\n",
    "    }\n",
    "}'''"
   ]
  },
  {
   "cell_type": "code",
   "execution_count": 48,
   "metadata": {
    "collapsed": false,
    "deletable": true,
    "editable": true
   },
   "outputs": [
    {
     "name": "stdout",
     "output_type": "stream",
     "text": [
      "{\"time_answer_end\": \"2013-03-02\", \"end_date\": \"2017-03-02\", \"graph\": \"https://s3-eu-west-1.amazonaws.com/microsoft-hack/b936a84f-ad40-4557-a6f8-641e9b27ef2e.png\", \"time_answer_start\": \"2013-03-02\", \"value\": \"5.69\", \"start_date\": \"2008-03-02\"}\n"
     ]
    }
   ],
   "source": [
    "# GET /:parameter/:operation/climatology\n",
    "import json\n",
    "\n",
    "req = json.loads(REQUEST)\n",
    "response = handle_request(req, 'climatology', expand_years)\n",
    "print(json.dumps(response))"
   ]
  },
  {
   "cell_type": "code",
   "execution_count": 53,
   "metadata": {
    "collapsed": true
   },
   "outputs": [],
   "source": [
    "REQUEST = '''{\n",
    "    \"args\": {\n",
    "        \"lat\": [\"51.473\"],\n",
    "        \"lon\": [\"-0.4487\"],\n",
    "        \"start_date\": [\"1978-03-03\"],\n",
    "        \"end_date\": [\"1978-04-03\"]\n",
    "    },\n",
    "    \"path\": {\n",
    "        \"parameter\": \"temperature\",\n",
    "        \"operation\": \"max\"\n",
    "    }\n",
    "}'''"
   ]
  },
  {
   "cell_type": "code",
   "execution_count": 54,
   "metadata": {
    "collapsed": false,
    "deletable": true,
    "editable": true
   },
   "outputs": [
    {
     "name": "stdout",
     "output_type": "stream",
     "text": [
      "{\"time_answer_end\": \"1978-03-10\", \"end_date\": \"1978-04-03\", \"graph\": \"https://s3-eu-west-1.amazonaws.com/microsoft-hack/f2daf373-4429-40b5-9b88-79bfa2d143ce.png\", \"time_answer_start\": \"1978-03-10\", \"value\": \"16.59\", \"start_date\": \"1978-03-03\"}\n"
     ]
    }
   ],
   "source": [
    "# GET /:parameter/:operation/range\n",
    "import json\n",
    "\n",
    "req = json.loads(REQUEST)\n",
    "response = handle_request(req, 'range', select_all_days)\n",
    "print(json.dumps(response))"
   ]
  },
  {
   "cell_type": "code",
   "execution_count": 197,
   "metadata": {
    "collapsed": false,
    "deletable": true,
    "editable": true
   },
   "outputs": [
    {
     "name": "stdout",
     "output_type": "stream",
     "text": [
      "{\"headers\": {\"Content-Type\": \"application/json\"}}\n"
     ]
    }
   ],
   "source": [
    "# ResponseInfo GET /:parameter/mean/range\n",
    "print(json.dumps({\n",
    "    \"headers\" : {\n",
    "        \"Content-Type\" : \"application/json\"\n",
    "    }\n",
    "}))"
   ]
  },
  {
   "cell_type": "code",
   "execution_count": 198,
   "metadata": {
    "collapsed": false,
    "deletable": true,
    "editable": true
   },
   "outputs": [
    {
     "name": "stdout",
     "output_type": "stream",
     "text": [
      "{\"headers\": {\"Content-Type\": \"application/json\"}}\n"
     ]
    }
   ],
   "source": [
    "# ResponseInfo GET /:parameter/mean/climatology\n",
    "print(json.dumps({\n",
    "    \"headers\" : {\n",
    "        \"Content-Type\" : \"application/json\"\n",
    "    }\n",
    "}))"
   ]
  },
  {
   "cell_type": "code",
   "execution_count": null,
   "metadata": {
    "collapsed": true,
    "deletable": true,
    "editable": true
   },
   "outputs": [],
   "source": []
  },
  {
   "cell_type": "code",
   "execution_count": 50,
   "metadata": {
    "collapsed": false,
    "deletable": true,
    "editable": true
   },
   "outputs": [
    {
     "name": "stdout",
     "output_type": "stream",
     "text": [
      "Untitled.ipynb      \u001b[35mmaximum-temperature\u001b[m\u001b[m\r\n"
     ]
    }
   ],
   "source": [
    "!ls /opt/data"
   ]
  },
  {
   "cell_type": "code",
   "execution_count": null,
   "metadata": {
    "collapsed": true
   },
   "outputs": [],
   "source": []
  }
 ],
 "metadata": {
  "anaconda-cloud": {},
  "kernelspec": {
   "display_name": "Python 3",
   "language": "python",
   "name": "python3"
  },
  "language_info": {
   "codemirror_mode": {
    "name": "ipython",
    "version": 3
   },
   "file_extension": ".py",
   "mimetype": "text/x-python",
   "name": "python",
   "nbconvert_exporter": "python",
   "pygments_lexer": "ipython3",
   "version": "3.5.2"
  }
 },
 "nbformat": 4,
 "nbformat_minor": 2
}
