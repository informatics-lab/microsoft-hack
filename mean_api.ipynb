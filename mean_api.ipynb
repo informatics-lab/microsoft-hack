{
 "cells": [
  {
   "cell_type": "markdown",
   "metadata": {
    "deletable": true,
    "editable": true
   },
   "source": [
    "- Given a lat lon\n",
    "- Assume maximum temperature\n",
    "- convert lat lon to correct projection\n",
    "- join all times together\n",
    "- from megacube extract that geospatial point\n",
    "    - investgate interopolation vs. find nearest\n",
    "- collapse time by mean\n",
    "- return float"
   ]
  },
  {
   "cell_type": "code",
   "execution_count": 105,
   "metadata": {
    "collapsed": true
   },
   "outputs": [],
   "source": [
    "REQUEST = '''{\n",
    "    \"args\": {\n",
    "        \"lat\": [\"51.473\"],\n",
    "        \"lon\": [\"-0.4487\"]\n",
    "    },\n",
    "    \"path\": {\n",
    "        \"parameter\": \"temperature\",\n",
    "        \"operation\": \"mean\"\n",
    "    }\n",
    "}'''\n"
   ]
  },
  {
   "cell_type": "code",
   "execution_count": 106,
   "metadata": {
    "collapsed": false,
    "deletable": true,
    "editable": true
   },
   "outputs": [
    {
     "name": "stdout",
     "output_type": "stream",
     "text": [
      "hello world\n"
     ]
    }
   ],
   "source": [
    "# GET /helloworld\n",
    "\n",
    "print('hello world')\n"
   ]
  },
  {
   "cell_type": "code",
   "execution_count": 107,
   "metadata": {
    "collapsed": false,
    "deletable": true,
    "editable": true
   },
   "outputs": [],
   "source": [
    "import datetime\n",
    "import iris\n",
    "\n",
    "iris.FUTURE.netcdf_promote = True\n",
    "\n",
    "def load_data(data_path, dates):\n",
    "    filenames = get_filenames(data_path, dates)\n",
    "    cubes = iris.load(filenames)\n",
    "    return iris.cube.CubeList(cubes).concatenate_cube()"
   ]
  },
  {
   "cell_type": "code",
   "execution_count": 108,
   "metadata": {
    "collapsed": false,
    "deletable": true,
    "editable": true
   },
   "outputs": [],
   "source": [
    "import cartopy\n",
    "\n",
    "def transform_coords(cube, lon, lat):\n",
    "    expected_proj = cube.coords('projection_y_coordinate')[0].coord_system.as_cartopy_crs()\n",
    "    given_proj = cartopy.crs.PlateCarree()\n",
    "    return expected_proj.transform_point(lon, lat, given_proj)"
   ]
  },
  {
   "cell_type": "code",
   "execution_count": 109,
   "metadata": {
    "collapsed": false,
    "deletable": true,
    "editable": true
   },
   "outputs": [],
   "source": [
    "\n",
    "def get_coords(cube, lat, lon):\n",
    "    x, y = transform_coords(cube, lon, lat)\n",
    "    first_year = next(cube.slices_over('time'))\n",
    "    samples = [('projection_y_coordinate', y), ('projection_x_coordinate', x)]\n",
    "    first_point = first_year.interpolate(samples, iris.analysis.Nearest())\n",
    "    exact_x = first_point.coord('projection_x_coordinate')[0].points[0]\n",
    "    exact_y = first_point.coord('projection_y_coordinate')[0].points[0]\n",
    "    \n",
    "    return(exact_x, exact_y)\n",
    "    \n"
   ]
  },
  {
   "cell_type": "code",
   "execution_count": 110,
   "metadata": {
    "collapsed": false,
    "deletable": true,
    "editable": true
   },
   "outputs": [],
   "source": [
    "\n",
    "def collapse_latlon(cube, x, y):\n",
    "    x_const = iris.Constraint(projection_x_coordinate=x)\n",
    "    y_const = iris.Constraint(projection_y_coordinate=y)\n",
    "    return cube.extract(x_const).extract(y_const)"
   ]
  },
  {
   "cell_type": "code",
   "execution_count": 21,
   "metadata": {
    "collapsed": false,
    "deletable": true,
    "editable": true
   },
   "outputs": [],
   "source": [
    "from datetime import timedelta\n",
    "\n",
    "def expand_years(start, end, past_years=10):\n",
    "    years = [\n",
    "        datetime.datetime(\n",
    "            d.year - i,\n",
    "            d.month,\n",
    "            d.day)\n",
    "        for i in range(past_years)\n",
    "        for d in select_all_days(start, end)]\n",
    "    return years\n",
    "\n",
    "def select_all_days(start, end):\n",
    "    delta = end - start\n",
    "    if delta.days == 0:\n",
    "        days = [start]\n",
    "    else:\n",
    "        days = [end - timedelta(days=i) for i in range(delta.days + 1)] #include start and end\n",
    "    return days\n",
    "\n",
    "def extract_dates(cube, dates):\n",
    "    time_units = cube.coord('time').units\n",
    "    vals = [time_units.date2num(date + timedelta(hours=12)) for date in dates] #12pm, not midnight\n",
    "    time_constraint = iris.Constraint(time=vals)\n",
    "    return cube.extract(time_constraint)\n",
    "\n",
    "def extract_range(cube, start, end):\n",
    "    time_units = cube.coord('time').units\n",
    "    start_val = time_units.date2num(start + timedelta(hours=12)) #12pm, not midnight\n",
    "    end_val = time_units.date2num(end + timedelta(hours=12))\n",
    "    time_constraint = iris.Constraint(time=lambda t: start_val <= t.point <= end_val)\n",
    "    return cube.extract(time_constraint)"
   ]
  },
  {
   "cell_type": "code",
   "execution_count": 112,
   "metadata": {
    "collapsed": false,
    "deletable": true,
    "editable": true
   },
   "outputs": [],
   "source": [
    "def mean(cube):\n",
    "    return cube.collapsed('time', iris.analysis.MEAN)\n",
    "\n",
    "def cmax(cube):\n",
    "    return cube.collapsed('time', iris.analysis.MAX)\n",
    "\n",
    "def cmin(cube):\n",
    "    return cube.collapsed('time', iris.analysis.MIN)"
   ]
  },
  {
   "cell_type": "code",
   "execution_count": 113,
   "metadata": {
    "collapsed": false,
    "deletable": true,
    "editable": true
   },
   "outputs": [],
   "source": [
    "patterns = {\n",
    "    'temperature': 'maximum-temperature',\n",
    "    'rainfall': 'rainfall'\n",
    "}\n",
    "\n",
    "operations = {\n",
    "    'mean': mean,\n",
    "    'max': cmax,\n",
    "    'min': cmin\n",
    "}"
   ]
  },
  {
   "cell_type": "code",
   "execution_count": null,
   "metadata": {
    "collapsed": true
   },
   "outputs": [],
   "source": [
    "import glob\n",
    "def get_filenames(data_path, dates):\n",
    "    years = set([date.year for date in dates])\n",
    "    filenames = [f for y in years for f in glob.glob('/opt/data/{}/*_{}*.nc'.format(data_path, y))]\n",
    "    return filenames"
   ]
  },
  {
   "cell_type": "code",
   "execution_count": 81,
   "metadata": {
    "collapsed": true,
    "deletable": true,
    "editable": true
   },
   "outputs": [],
   "source": [
    "from collections import defaultdict\n",
    "CACHED_POINTS = defaultdict(lambda: None)"
   ]
  },
  {
   "cell_type": "code",
   "execution_count": 115,
   "metadata": {
    "collapsed": true,
    "deletable": true,
    "editable": true
   },
   "outputs": [],
   "source": [
    "import io\n",
    "import boto3\n",
    "import uuid\n",
    "import matplotlib.pyplot as plt\n",
    "import numpy\n",
    "\n",
    "def upload_image(byte_data):\n",
    "    bucket_name = 'microsoft-hack'\n",
    "    s3 = boto3.resource('s3')\n",
    "    bucket = s3.Bucket(bucket_name)\n",
    "    uid = str(uuid.uuid4())\n",
    "    bucket.put_object(\n",
    "        Body=byte_data,\n",
    "        ContentType='image/png',\n",
    "        Key='{}.png'.format(uid),\n",
    "        ACL='public-read')\n",
    "    \n",
    "    return 'https://s3-eu-west-1.amazonaws.com/{}/{}.png'.format(bucket_name, uid)\n",
    "\n",
    "def graph(cube, times):\n",
    "    \n",
    "    title = cube.standard_name.title().replace('_', ' ')\n",
    "\n",
    "\n",
    "    time_units = cube.coord('time').units\n",
    "    times = time_units.num2date(cube.coords('time')[0].points)\n",
    "    plt.plot(times, cube.data, 'b:o')\n",
    "    plt.xticks(rotation=45)\n",
    "    plt.ylabel(title+'('+str(cube.units)+')')\n",
    "    img_data = io.BytesIO()\n",
    "    plt.savefig(img_data, format='png')\n",
    "    plt.clf()\n",
    "    img_data.seek(0)\n",
    "    s3_url = upload_image(img_data)\n",
    "    return s3_url\n",
    "\n",
    "def get_response(cube, dates, x, y, operation, mode):\n",
    "    time_cube = collapse_latlon(cube, x, y)\n",
    "    if mode == \"climatology\":\n",
    "        collapsed_time_cube = extract_dates(time_cube, dates)\n",
    "    else:\n",
    "        collapsed_time_cube = extract_range(time_cube, dates[-1], dates[0])\n",
    "    \n",
    "    s3_url = graph(collapsed_time_cube, dates)\n",
    "\n",
    "    collapsed_cube = operation(collapsed_time_cube)\n",
    "    \n",
    "    val = float(collapsed_cube.data)\n",
    "    \n",
    "    response = {\n",
    "        'value': val,\n",
    "        'start_date': dates[-1].strftime('%Y-%m-%d'),\n",
    "        'end_date': dates[0].strftime('%Y-%m-%d'),\n",
    "        'graph': s3_url\n",
    "    }\n",
    "    \n",
    "    return response"
   ]
  },
  {
   "cell_type": "code",
   "execution_count": 116,
   "metadata": {
    "collapsed": true
   },
   "outputs": [],
   "source": [
    "def parse_query(req, mode):\n",
    "    query = req['args']\n",
    "    lat = float(query['lat'][0])\n",
    "    lon = float(query['lon'][0])\n",
    "    start, end = parse_date_range(query, mode)\n",
    "    return lat, lon, start, end\n",
    "\n",
    "def parse_path(req):\n",
    "    path = req['path']\n",
    "    param = path['parameter']\n",
    "    op = path['operation']\n",
    "    return param, op\n",
    "\n",
    "def get_start_date(end_date, past_years=10):\n",
    "    return datetime.datetime(end_date.year - past_years, end_date.month, end_date.day)\n",
    "\n",
    "def parse_date_range(query, mode):\n",
    "    # if it's a climatology, default start date to end date\n",
    "    # if it's a range, default start date to 'records began'\n",
    "    if 'start_date' and 'end_date' in query.keys():\n",
    "        start_date = datetime.datetime.strptime(query['start_date'][0], '%Y-%m-%d')\n",
    "        end_date = datetime.datetime.strptime(query['end_date'][0], '%Y-%m-%d')\n",
    "    elif 'date' in query.keys():\n",
    "        start_date = datetime.datetime.strptime(query['date'][0], '%Y-%m-%d')\n",
    "        end_date = start_date\n",
    "    else:\n",
    "        end_date = datetime.datetime.now()\n",
    "        if mode=='climatology':\n",
    "            start_date = end_date\n",
    "        else:\n",
    "            start_date = get_start_date(end_date)\n",
    "    return start_date, end_date"
   ]
  },
  {
   "cell_type": "code",
   "execution_count": 22,
   "metadata": {
    "collapsed": true
   },
   "outputs": [],
   "source": [
    "def handle_request(req, mode, dates_func):\n",
    "    param, op = parse_path(req)\n",
    "    lat, lon, start, end = parse_query(req, mode)\n",
    "\n",
    "    data_path = patterns[param]\n",
    "    operation = operations[op]\n",
    "\n",
    "    dates = dates_func(start, end)\n",
    "    cube = load_data(data_path, dates)\n",
    "    x, y = get_coords(cube, lat, lon)\n",
    "    \n",
    "    cache_key = (mode, param, x, y, start, end, operation)\n",
    "    \n",
    "    if CACHED_POINTS[cache_key] != None:\n",
    "        response = CACHED_POINTS[cache_key]\n",
    "    else:\n",
    "        response = get_response(cube, dates, x, y, operation, mode)\n",
    "        CACHED_POINTS[cache_key] = response\n",
    "    return response"
   ]
  },
  {
   "cell_type": "code",
   "execution_count": 118,
   "metadata": {
    "collapsed": false,
    "deletable": true,
    "editable": true
   },
   "outputs": [
    {
     "name": "stdout",
     "output_type": "stream",
     "text": [
      "{\"start_date\": \"1978-03-02\", \"value\": 9.301027009361668, \"end_date\": \"2017-03-02\", \"graph\": \"https://s3-eu-west-1.amazonaws.com/microsoft-hack/8898ff33-d7d0-4a8e-a8a2-e59bdbc2af50.png\"}\n"
     ]
    },
    {
     "name": "stderr",
     "output_type": "stream",
     "text": [
      "/Users/alex/anaconda3/lib/python3.5/site-packages/iris/coords.py:992: UserWarning: Collapsing a non-contiguous coordinate. Metadata may not be fully descriptive for 'time'.\n",
      "  warnings.warn(msg.format(self.name()))\n"
     ]
    }
   ],
   "source": [
    "# GET /:parameter/:operation/climatology\n",
    "import json\n",
    "\n",
    "req = json.loads(REQUEST)\n",
    "response = handle_request(req, 'climatology', expand_years)\n",
    "print(json.dumps(response))"
   ]
  },
  {
   "cell_type": "code",
   "execution_count": 63,
   "metadata": {
    "collapsed": false,
    "deletable": true,
    "editable": true
   },
   "outputs": [
    {
     "name": "stdout",
     "output_type": "stream",
     "text": [
      "maximum-temperature/*.nc\n"
     ]
    },
    {
     "ename": "CoordinateCollapseError",
     "evalue": "Cannot collapse a dimension which does not describe any data.",
     "output_type": "error",
     "traceback": [
      "\u001b[0;31m---------------------------------------------------------------------------\u001b[0m",
      "\u001b[0;31mCoordinateCollapseError\u001b[0m                   Traceback (most recent call last)",
      "\u001b[0;32m<ipython-input-63-782e91166824>\u001b[0m in \u001b[0;36m<module>\u001b[0;34m()\u001b[0m\n\u001b[1;32m      3\u001b[0m \u001b[0;34m\u001b[0m\u001b[0m\n\u001b[1;32m      4\u001b[0m \u001b[0mreq\u001b[0m \u001b[0;34m=\u001b[0m \u001b[0mjson\u001b[0m\u001b[0;34m.\u001b[0m\u001b[0mloads\u001b[0m\u001b[0;34m(\u001b[0m\u001b[0mREQUEST\u001b[0m\u001b[0;34m)\u001b[0m\u001b[0;34m\u001b[0m\u001b[0m\n\u001b[0;32m----> 5\u001b[0;31m \u001b[0mresponse\u001b[0m \u001b[0;34m=\u001b[0m \u001b[0mhandle_request\u001b[0m\u001b[0;34m(\u001b[0m\u001b[0mreq\u001b[0m\u001b[0;34m,\u001b[0m \u001b[0;34m'range'\u001b[0m\u001b[0;34m,\u001b[0m \u001b[0mselect_all_days\u001b[0m\u001b[0;34m)\u001b[0m\u001b[0;34m\u001b[0m\u001b[0m\n\u001b[0m\u001b[1;32m      6\u001b[0m \u001b[0mprint\u001b[0m\u001b[0;34m(\u001b[0m\u001b[0mjson\u001b[0m\u001b[0;34m.\u001b[0m\u001b[0mdumps\u001b[0m\u001b[0;34m(\u001b[0m\u001b[0mresponse\u001b[0m\u001b[0;34m)\u001b[0m\u001b[0;34m)\u001b[0m\u001b[0;34m\u001b[0m\u001b[0m\n",
      "\u001b[0;32m<ipython-input-61-b0aa2598a735>\u001b[0m in \u001b[0;36mhandle_request\u001b[0;34m(req, mode, dates_func)\u001b[0m\n\u001b[1;32m     15\u001b[0m     \u001b[0;32melse\u001b[0m\u001b[0;34m:\u001b[0m\u001b[0;34m\u001b[0m\u001b[0m\n\u001b[1;32m     16\u001b[0m         \u001b[0mdates\u001b[0m \u001b[0;34m=\u001b[0m \u001b[0mdates_func\u001b[0m\u001b[0;34m(\u001b[0m\u001b[0mstart\u001b[0m\u001b[0;34m,\u001b[0m \u001b[0mend\u001b[0m\u001b[0;34m)\u001b[0m\u001b[0;34m\u001b[0m\u001b[0m\n\u001b[0;32m---> 17\u001b[0;31m         \u001b[0mresponse\u001b[0m \u001b[0;34m=\u001b[0m \u001b[0mget_response\u001b[0m\u001b[0;34m(\u001b[0m\u001b[0mcube\u001b[0m\u001b[0;34m,\u001b[0m \u001b[0mdates\u001b[0m\u001b[0;34m,\u001b[0m \u001b[0mx\u001b[0m\u001b[0;34m,\u001b[0m \u001b[0my\u001b[0m\u001b[0;34m,\u001b[0m \u001b[0moperation\u001b[0m\u001b[0;34m)\u001b[0m\u001b[0;34m\u001b[0m\u001b[0m\n\u001b[0m\u001b[1;32m     18\u001b[0m         \u001b[0mCACHED_POINTS\u001b[0m\u001b[0;34m[\u001b[0m\u001b[0mcache_key\u001b[0m\u001b[0;34m]\u001b[0m \u001b[0;34m=\u001b[0m \u001b[0mresponse\u001b[0m\u001b[0;34m\u001b[0m\u001b[0m\n\u001b[1;32m     19\u001b[0m     \u001b[0;32mreturn\u001b[0m \u001b[0mresponse\u001b[0m\u001b[0;34m\u001b[0m\u001b[0m\n",
      "\u001b[0;32m<ipython-input-59-63dbf03b95eb>\u001b[0m in \u001b[0;36mget_response\u001b[0;34m(cube, dates, x, y, operation)\u001b[0m\n\u001b[1;32m     37\u001b[0m     \u001b[0ms3_url\u001b[0m \u001b[0;34m=\u001b[0m \u001b[0mgraph\u001b[0m\u001b[0;34m(\u001b[0m\u001b[0mcollapsed_time_cube\u001b[0m\u001b[0;34m,\u001b[0m \u001b[0mdates\u001b[0m\u001b[0;34m)\u001b[0m\u001b[0;34m\u001b[0m\u001b[0m\n\u001b[1;32m     38\u001b[0m \u001b[0;34m\u001b[0m\u001b[0m\n\u001b[0;32m---> 39\u001b[0;31m     \u001b[0mcollapsed_cube\u001b[0m \u001b[0;34m=\u001b[0m \u001b[0moperation\u001b[0m\u001b[0;34m(\u001b[0m\u001b[0mcollapsed_time_cube\u001b[0m\u001b[0;34m)\u001b[0m\u001b[0;34m\u001b[0m\u001b[0m\n\u001b[0m\u001b[1;32m     40\u001b[0m \u001b[0;34m\u001b[0m\u001b[0m\n\u001b[1;32m     41\u001b[0m     \u001b[0mval\u001b[0m \u001b[0;34m=\u001b[0m \u001b[0mfloat\u001b[0m\u001b[0;34m(\u001b[0m\u001b[0mcollapsed_cube\u001b[0m\u001b[0;34m.\u001b[0m\u001b[0mdata\u001b[0m\u001b[0;34m)\u001b[0m\u001b[0;34m\u001b[0m\u001b[0m\n",
      "\u001b[0;32m<ipython-input-29-be59ed56e1dc>\u001b[0m in \u001b[0;36mcmin\u001b[0;34m(cube)\u001b[0m\n\u001b[1;32m      6\u001b[0m \u001b[0;34m\u001b[0m\u001b[0m\n\u001b[1;32m      7\u001b[0m \u001b[0;32mdef\u001b[0m \u001b[0mcmin\u001b[0m\u001b[0;34m(\u001b[0m\u001b[0mcube\u001b[0m\u001b[0;34m)\u001b[0m\u001b[0;34m:\u001b[0m\u001b[0;34m\u001b[0m\u001b[0m\n\u001b[0;32m----> 8\u001b[0;31m     \u001b[0;32mreturn\u001b[0m \u001b[0mcube\u001b[0m\u001b[0;34m.\u001b[0m\u001b[0mcollapsed\u001b[0m\u001b[0;34m(\u001b[0m\u001b[0;34m'time'\u001b[0m\u001b[0;34m,\u001b[0m \u001b[0miris\u001b[0m\u001b[0;34m.\u001b[0m\u001b[0manalysis\u001b[0m\u001b[0;34m.\u001b[0m\u001b[0mMIN\u001b[0m\u001b[0;34m)\u001b[0m\u001b[0;34m\u001b[0m\u001b[0m\n\u001b[0m",
      "\u001b[0;32m/Users/alex/anaconda3/lib/python3.5/site-packages/iris/cube.py\u001b[0m in \u001b[0;36mcollapsed\u001b[0;34m(self, coords, aggregator, **kwargs)\u001b[0m\n\u001b[1;32m   3273\u001b[0m             \u001b[0mmsg\u001b[0m \u001b[0;34m=\u001b[0m \u001b[0;34m'Cannot collapse a dimension which does not describe any '\u001b[0m\u001b[0;31m \u001b[0m\u001b[0;31m\\\u001b[0m\u001b[0;34m\u001b[0m\u001b[0m\n\u001b[1;32m   3274\u001b[0m                   \u001b[0;34m'data.'\u001b[0m\u001b[0;34m\u001b[0m\u001b[0m\n\u001b[0;32m-> 3275\u001b[0;31m             \u001b[0;32mraise\u001b[0m \u001b[0miris\u001b[0m\u001b[0;34m.\u001b[0m\u001b[0mexceptions\u001b[0m\u001b[0;34m.\u001b[0m\u001b[0mCoordinateCollapseError\u001b[0m\u001b[0;34m(\u001b[0m\u001b[0mmsg\u001b[0m\u001b[0;34m)\u001b[0m\u001b[0;34m\u001b[0m\u001b[0m\n\u001b[0m\u001b[1;32m   3276\u001b[0m \u001b[0;34m\u001b[0m\u001b[0m\n\u001b[1;32m   3277\u001b[0m         \u001b[0muntouched_dims\u001b[0m \u001b[0;34m=\u001b[0m \u001b[0mset\u001b[0m\u001b[0;34m(\u001b[0m\u001b[0mrange\u001b[0m\u001b[0;34m(\u001b[0m\u001b[0mself\u001b[0m\u001b[0;34m.\u001b[0m\u001b[0mndim\u001b[0m\u001b[0;34m)\u001b[0m\u001b[0;34m)\u001b[0m \u001b[0;34m-\u001b[0m \u001b[0mset\u001b[0m\u001b[0;34m(\u001b[0m\u001b[0mdims_to_collapse\u001b[0m\u001b[0;34m)\u001b[0m\u001b[0;34m\u001b[0m\u001b[0m\n",
      "\u001b[0;31mCoordinateCollapseError\u001b[0m: Cannot collapse a dimension which does not describe any data."
     ]
    }
   ],
   "source": [
    "# GET /:parameter/:operation/range\n",
    "import json\n",
    "\n",
    "req = json.loads(REQUEST)\n",
    "response = handle_request(req, 'range', select_all_days)\n",
    "print(json.dumps(response))"
   ]
  },
  {
   "cell_type": "code",
   "execution_count": 197,
   "metadata": {
    "collapsed": false,
    "deletable": true,
    "editable": true
   },
   "outputs": [
    {
     "name": "stdout",
     "output_type": "stream",
     "text": [
      "{\"headers\": {\"Content-Type\": \"application/json\"}}\n"
     ]
    }
   ],
   "source": [
    "# ResponseInfo GET /:parameter/mean/range\n",
    "print(json.dumps({\n",
    "    \"headers\" : {\n",
    "        \"Content-Type\" : \"application/json\"\n",
    "    }\n",
    "}))"
   ]
  },
  {
   "cell_type": "code",
   "execution_count": 198,
   "metadata": {
    "collapsed": false,
    "deletable": true,
    "editable": true
   },
   "outputs": [
    {
     "name": "stdout",
     "output_type": "stream",
     "text": [
      "{\"headers\": {\"Content-Type\": \"application/json\"}}\n"
     ]
    }
   ],
   "source": [
    "# ResponseInfo GET /:parameter/mean/climatology\n",
    "print(json.dumps({\n",
    "    \"headers\" : {\n",
    "        \"Content-Type\" : \"application/json\"\n",
    "    }\n",
    "}))"
   ]
  },
  {
   "cell_type": "code",
   "execution_count": null,
   "metadata": {
    "collapsed": true,
    "deletable": true,
    "editable": true
   },
   "outputs": [],
   "source": []
  },
  {
   "cell_type": "code",
   "execution_count": 50,
   "metadata": {
    "collapsed": false,
    "deletable": true,
    "editable": true
   },
   "outputs": [
    {
     "name": "stdout",
     "output_type": "stream",
     "text": [
      "Untitled.ipynb      \u001b[35mmaximum-temperature\u001b[m\u001b[m\r\n"
     ]
    }
   ],
   "source": [
    "!ls /opt/data"
   ]
  },
  {
   "cell_type": "code",
   "execution_count": null,
   "metadata": {
    "collapsed": true
   },
   "outputs": [],
   "source": []
  }
 ],
 "metadata": {
  "anaconda-cloud": {},
  "kernelspec": {
   "display_name": "Python 3",
   "language": "python",
   "name": "python3"
  },
  "language_info": {
   "codemirror_mode": {
    "name": "ipython",
    "version": 3
   },
   "file_extension": ".py",
   "mimetype": "text/x-python",
   "name": "python",
   "nbconvert_exporter": "python",
   "pygments_lexer": "ipython3",
   "version": "3.5.2"
  }
 },
 "nbformat": 4,
 "nbformat_minor": 2
}
